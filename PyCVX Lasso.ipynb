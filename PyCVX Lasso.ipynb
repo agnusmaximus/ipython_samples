{
 "metadata": {
  "name": "",
  "signature": "sha256:2998493587173bdf929eadb158754b1498083bcecfbdf75aabba3f8ce1093e8b"
 },
 "nbformat": 3,
 "nbformat_minor": 0,
 "worksheets": [
  {
   "cells": [
    {
     "cell_type": "code",
     "collapsed": false,
     "input": [
      "###################################################################\n",
      "# Creates a normalized bag of words model from movie reviews data #\n",
      "###################################################################\n",
      "import sys\n",
      "import sklearn\n",
      "import os\n",
      "import glob\n",
      "\n",
      "# Read all the negatively/positively sentimented text data\n",
      "negative_files = g\n",
      "\n",
      "# Read the wordlist and create a bag of words model\n",
      "f = open(\"input/wordlist.csv\")\n",
      "\n"
     ],
     "language": "python",
     "metadata": {},
     "outputs": [],
     "prompt_number": 3
    },
    {
     "cell_type": "code",
     "collapsed": false,
     "input": [],
     "language": "python",
     "metadata": {},
     "outputs": [],
     "prompt_number": 3
    },
    {
     "cell_type": "code",
     "collapsed": false,
     "input": [],
     "language": "python",
     "metadata": {},
     "outputs": []
    }
   ],
   "metadata": {}
  }
 ]
}